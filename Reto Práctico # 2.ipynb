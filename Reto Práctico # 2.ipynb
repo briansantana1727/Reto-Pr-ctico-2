{
 "cells": [
  {
   "cell_type": "markdown",
   "metadata": {},
   "source": [
    "<div style=\"display:flex;flex-direction:row;justify-content: space-evenly;\">\n",
    "    <img src=\"mexico.jpg\" style=\"height:200px;\">\n",
    "    <img src=\"colima.svg\" style=\"width:200px\">\n",
    "</div>\n",
    "<div style=\"display:flex;flex-direction:column;gap:20px;text-align:center\">\n",
    "<h1>Tecnológico Nacional de México campus Colima</h1>\n",
    "<h2>Maestría en Sistemas Computacionales</h2>\n",
    "<h2>Tecnologías de programación</h2>\n",
    "<h2>Actividad - Reto Práctico # 2</h2>\n",
    "<h2>D. en C. Patricia Elizabeth Figueroa Millán</h2>\n",
    "<h3>Brandon Jesus Santana Gudiño | G2146006</h3>\n",
    "<p >Villa de Álvarez, Colima - 10 de noviembre de 2022</p>\n",
    "</div>"
   ]
  },
  {
   "cell_type": "markdown",
   "metadata": {},
   "source": [
    "<h3>Objetivo:</h3>\n",
    "<h4>Realizar la investigación acerca de las primitivas de sincronización de los hilos que se ofrecen en el sitema de Python las cuales son las siguientes: </h4>\n",
    "<p>+ Lock</p>\n",
    "<p>+ Event</p>\n",
    "<p>+ Condition</p>\n",
    "<p>+ Semaphore</p>\n",
    "<p>+ BoundedSemaphore</p>\n",
    "<p>+ Barrier</p>"
   ]
  },
  {
   "cell_type": "markdown",
   "metadata": {},
   "source": [
    "<h3>Metodología:</h3>\n",
    "<h4>Se realiza una investigación en base a los temas relacionados con la materia, ademas de realizar codigos en Python con el objetivo de apoyar las investigaciones realizadas en este documento.</h4>"
   ]
  },
  {
   "cell_type": "markdown",
   "metadata": {},
   "source": [
    "<h3>Materiales utilizados:</h3>\n",
    "<p>+ Computadora portatil</p>\n",
    "<p>+ Visual Studio Code</p>\n",
    "<p>+ Python</p>\n"
   ]
  },
  {
   "cell_type": "markdown",
   "metadata": {},
   "source": [
    "<h3>Desarrollo:</h3>\n",
    "<h4>Las primitivas de sincronización tienen una arquitectura similar a la del módulo threading pero con dos diferencias: </h4>\n",
    "<h4>+ Las primitivas de sincronización no estan en hilo de seguridad, por lo que se debe ser utilizado para la sincronización de hilos OS.</h4>\n",
    "<h4>+ Las primitivas de sincronización estan limitadas ya que no aceptan el argumento del tiempo de espera, por lo que se utiliza la función asyncio.wait_for().[1]</h4>\n"
   ]
  },
  {
   "cell_type": "markdown",
   "metadata": {},
   "source": [
    "<h3>Lock:</h3>\n",
    "<h4>La primitiva lock siempre esta en uno de los estados de cerrado o abierto y tiene dos métodos básicos los cuales son acquire() y release().</h4>\n",
    "<p>+ Cuando esta en abierto acquire() cambia al estado cerrado y retorna inmediatamente.</p>\n",
    "<p>+ Cuando esta en cerrado acquire() bloquea hasta que la función release() en otro hilo lo cambie a abierto, luego la llamada acquiere() lo restablece a cerrado y retorna.</p>\n",
    "<p>+ El método release() sólo debe ser llamado en el estado cerrado;de esta manera señ cambia el estado a abierto y retorna inmediatamente. Si se realiza un intento de liberar un lock abierto, se lanzará un RuntimeError.</p>\n",
    "<p>+ El metodo lock soporta el protocolo de gestion de contexto.</p>\n",
    "<p>+ Cuando los hilos estan bloqueado en el estado acquire(), sólo un hilo procederá cuando se haga una llamada a release() este proceso hace que el hilo se restablezca al estado abierto; cuál de los hilos en espera procederá no está definido, y puede variar a través de las implementaciones.[2]</p>"
   ]
  },
  {
   "cell_type": "markdown",
   "metadata": {},
   "source": [
    "<h3>Ejemplo del metodo lock[3]:</h3>"
   ]
  },
  {
   "cell_type": "code",
   "execution_count": 12,
   "metadata": {},
   "outputs": [
    {
     "name": "stdout",
     "output_type": "stream",
     "text": [
      "counter=10\n",
      "counter=30\n",
      "The final counter is 30\n"
     ]
    }
   ],
   "source": [
    "from threading import Thread, Lock\n",
    "\n",
    "counter = 0\n",
    "\n",
    "def increase(by, lock):\n",
    "    global counter\n",
    "\n",
    "    lock.acquire()\n",
    "\n",
    "    local_counter = counter\n",
    "    local_counter += by\n",
    "    counter = local_counter\n",
    "    print(f'counter={counter}')\n",
    "\n",
    "    lock.release()\n",
    "\n",
    "lock = Lock()\n",
    "\n",
    "t1 = Thread(target=increase, args=(10, lock))\n",
    "t2 = Thread(target=increase, args=(20, lock))\n",
    "\n",
    "t1.start()\n",
    "t2.start()\n",
    "\n",
    "t1.join()\n",
    "t2.join()\n",
    "\n",
    "print(f'The final counter is {counter}')"
   ]
  },
  {
   "cell_type": "markdown",
   "metadata": {},
   "source": [
    "<h3>Event:</h3>\n",
    "<h4>EL Event puede ser utilizado para notificar a multiples tareas asincronas que algun evento ha ocurrido.</h4>\n",
    "<p>+ Un objeto Event administra una bandera interna que se puede establecer en verdadero con el método set() y restablecer en falso con el método clear() . El método wait() se bloquea hasta que el indicador se establece en verdadero . La bandera se establece en falso inicialmente.[1]</p>"
   ]
  },
  {
   "cell_type": "markdown",
   "metadata": {},
   "source": [
    "<h3>Ejemplo del metodo Event[4]:</h3>"
   ]
  },
  {
   "cell_type": "code",
   "execution_count": 13,
   "metadata": {},
   "outputs": [
    {
     "name": "stdout",
     "output_type": "stream",
     "text": [
      "police have been informed\n",
      "owner has been messaged about the possible theft\n",
      "Alarm has started\n"
     ]
    }
   ],
   "source": [
    "class Event(object):\n",
    " \n",
    "    def __init__(self):\n",
    "        self.__eventhandlers = []\n",
    " \n",
    "    def __iadd__(self, handler):\n",
    "        self.__eventhandlers.append(handler)\n",
    "        return self\n",
    " \n",
    "    def __isub__(self, handler):\n",
    "        self.__eventhandlers.remove(handler)\n",
    "        return self\n",
    " \n",
    "    def __call__(self, *args, **keywargs):\n",
    "        for eventhandler in self.__eventhandlers:\n",
    "            eventhandler(*args, **keywargs)\n",
    "                 \n",
    "class Police(object):\n",
    "    def __init__(self, policeTelephoneNo):\n",
    "        self._telephone = policeTelephoneNo\n",
    "     \n",
    "    def CallPolice(self):\n",
    "        print (\"police have been informed\")\n",
    " \n",
    "class Owner(object):\n",
    "    def __init__(self, ownerMobile):\n",
    "        self.__mobile = ownerMobile\n",
    "     \n",
    "    def Message(self):\n",
    "        print (\"owner has been messaged about the possible theft\")\n",
    "         \n",
    "class Alarm(object):\n",
    "     \n",
    "    def StartAlarm(self):\n",
    "        print (\"Alarm has started\")\n",
    "         \n",
    "# LockClass\n",
    " \n",
    "class Lock(object):\n",
    "     \n",
    "    def __init__(self):\n",
    "        self.OnLockBroken = Event()\n",
    "         \n",
    "    def LockBroken(self):\n",
    "        # This function will be executed once a lock is broken and will\n",
    "        # raise an event\n",
    "        self.OnLockBroken()\n",
    "         \n",
    "    def AddSubscribersForLockBrokenEvent(self,objMethod):\n",
    "        self.OnLockBroken += objMethod\n",
    "         \n",
    "    def RemoveSubscribersForLockBrokenEvent(self,objMethod):\n",
    "        self.OnLockBroken -= objMethod\n",
    " \n",
    "def Simulation():\n",
    "    # In the simulation we have a lock\n",
    "    # which will be broken and the object of Police\n",
    "    # owner and Alarm classes which are\n",
    "    # to be notified as soon as lock is broke\n",
    "     \n",
    "    # Required objects\n",
    "    godrejLockObj = Lock()\n",
    "    localPoliceObj = Police(100)\n",
    "    ownerObj = Owner(99999999)\n",
    "    mainDoorAlarmObj = Alarm()\n",
    "     \n",
    "    # Setting these objects to receive the events from lock\n",
    "    godrejLockObj.AddSubscribersForLockBrokenEvent(localPoliceObj.CallPolice)\n",
    "    godrejLockObj.AddSubscribersForLockBrokenEvent(ownerObj.Message)\n",
    "    godrejLockObj.AddSubscribersForLockBrokenEvent(mainDoorAlarmObj.StartAlarm)\n",
    "     \n",
    "    # Now the Lock is broken by some burglar\n",
    "    # thus LockBroken function will be called\n",
    "    godrejLockObj.LockBroken()\n",
    "     \n",
    "    # All three notifications must be printed\n",
    "    # as soon as Lock is broken now\n",
    "     \n",
    "    # You can also remove any receiver by\n",
    "    # calling the RemoveSubscribersForLockBrokenEvent\n",
    "    godrejLockObj.RemoveSubscribersForLockBrokenEvent(mainDoorAlarmObj.StartAlarm)\n",
    "if __name__ == \"__main__\":        \n",
    "    Simulation()"
   ]
  },
  {
   "cell_type": "markdown",
   "metadata": {},
   "source": [
    "<h3>Condition:</h3>\n",
    "<h4>El metodo condition puede ser utilizado por una tarea para permanecer en espera de que algún evnto ocurra, para despues obtener acceso exclusivo a un recurso compartido.</h4>\n",
    "<p>+ En pocas palabras una condicion combian la funcionalidad de un event y un lock, este metodo nos permite condicionar a que varios objetos de condición compartan un bloqueo, lo cual ayuda a cordinar el acceso exclusivo a un recurso compartido entre diferentes tareas.[1]</p>"
   ]
  },
  {
   "cell_type": "markdown",
   "metadata": {},
   "source": [
    "<h3>Ejemplo del metodo Event[5]:</h3>"
   ]
  },
  {
   "cell_type": "code",
   "execution_count": 14,
   "metadata": {},
   "outputs": [
    {
     "name": "stderr",
     "output_type": "stream",
     "text": [
      "(consumer1) Consumer thread started ...\n",
      "(consumer1) Consumer waiting ...\n",
      "(consumer2) Consumer thread started ...\n",
      "(consumer2) Consumer waiting ...\n",
      "(producer ) Producer thread started ...\n",
      "(producer ) Making resource available\n",
      "(producer ) Notifying to all consumers\n",
      "C:\\Users\\koda_\\AppData\\Local\\Temp\\ipykernel_15956\\2728957360.py:18: DeprecationWarning: notifyAll() is deprecated, use notify_all() instead\n",
      "  cv.notifyAll()\n"
     ]
    }
   ],
   "source": [
    "import threading\n",
    "import time\n",
    "import logging\n",
    "\n",
    "logging.basicConfig(level=logging.DEBUG,\n",
    "                    format='(%(threadName)-9s) %(message)s',)\n",
    "\n",
    "def consumer(cv):\n",
    "    logging.debug('Consumer thread started ...')\n",
    "    with cv:\n",
    "    \tlogging.debug('Consumer waiting ...')\n",
    "\n",
    "def producer(cv):\n",
    "    logging.debug('Producer thread started ...')\n",
    "    with cv:\n",
    "        logging.debug('Making resource available')\n",
    "        logging.debug('Notifying to all consumers')\n",
    "        cv.notifyAll()\n",
    "\n",
    "if __name__ == '__main__':\n",
    "    condition = threading.Condition()\n",
    "    cs1 = threading.Thread(name='consumer1', target=consumer, args=(condition,))\n",
    "    cs2 = threading.Thread(name='consumer2', target=consumer, args=(condition,))\n",
    "    pd = threading.Thread(name='producer', target=producer, args=(condition,))\n",
    "\n",
    "    cs1.start()\n",
    "    time.sleep(2)\n",
    "    cs2.start()\n",
    "    time.sleep(2)\n",
    "    pd.start()"
   ]
  },
  {
   "cell_type": "markdown",
   "metadata": {},
   "source": [
    "<h3>Semaphore:</h3>\n",
    "<h4>El metodo semáforo gestiona un contador interno que va disminuyendo con cada llamada acquire() y aumenta con las llamadas release(), el contador del método semaforo nunca baja a cero debido a que cuando acquire() encuentra que es cero, este se bloquea y espera que alguna tarea llame a release().</h4>\n",
    "<p>+ El argumento de valor opcional proporciona el valor inicial para el contador interno ( 1 por defecto). Si el valor dado es menor que 0 ,se ValueError un ValueError.[1]</p>"
   ]
  },
  {
   "cell_type": "markdown",
   "metadata": {},
   "source": [
    "<h3>Ejemplo del metodo Semaphore[6]:</h3>"
   ]
  },
  {
   "cell_type": "code",
   "execution_count": 15,
   "metadata": {},
   "outputs": [
    {
     "name": "stdout",
     "output_type": "stream",
     "text": [
      "Hello, Hello, Hello, "
     ]
    }
   ],
   "source": [
    "# importing the modules\n",
    "from threading import *         \n",
    "import time        \n",
    "  \n",
    "# creating thread instance where count = 3\n",
    "obj = Semaphore(3)        \n",
    "  \n",
    "# creating instance\n",
    "def display(name):    \n",
    "    \n",
    "    # calling acquire method\n",
    "    obj.acquire()                \n",
    "    for i in range(5):\n",
    "        print('Hello, ', end = '')\n",
    "        time.sleep(1)\n",
    "        print(name)\n",
    "          \n",
    "        # calling release method\n",
    "        obj.release()    \n",
    "          \n",
    "# creating multiple thread \n",
    "t1 = Thread(target = display , args = ('Thread-1',))\n",
    "t2 = Thread(target = display , args = ('Thread-2',))\n",
    "t3 = Thread(target = display , args = ('Thread-3',))\n",
    "t4 = Thread(target = display , args = ('Thread-4',))\n",
    "t5 = Thread(target = display , args = ('Thread-5',))\n",
    "  \n",
    "# calling the threads \n",
    "t1.start()\n",
    "t2.start()\n",
    "t3.start()\n",
    "t4.start()\n",
    "t5.start()"
   ]
  },
  {
   "cell_type": "markdown",
   "metadata": {},
   "source": [
    "<h3>BoundedSemaphore:</h3>\n",
    "<h4>Este metodo es una versión de semaphore que genera un ValueError en relase() si aument el controlador interno por encima del valor de inicio.</h4>\n",
    "<p>+ El argumento de valor opcional proporciona el valor inicial para el contador interno ( 1 por defecto). Si el valor dado es menor que 0 ,se ValueError un ValueError.[1]</p>"
   ]
  },
  {
   "cell_type": "markdown",
   "metadata": {},
   "source": [
    "<h3>Ejemplo del metodo Semaphore[7]:</h3>"
   ]
  },
  {
   "cell_type": "code",
   "execution_count": 16,
   "metadata": {},
   "outputs": [
    {
     "name": "stdout",
     "output_type": "stream",
     "text": [
      "6\n",
      "As expected, it complained.\n"
     ]
    }
   ],
   "source": [
    "from threading import Semaphore, BoundedSemaphore\n",
    "\n",
    "# Usually, you create a Semaphore that will allow a certain number of threads\n",
    "# into a section of code. This one starts at 5.\n",
    "s1 = Semaphore(5)\n",
    "\n",
    "# When you want to enter the section of code, you acquire it first.\n",
    "# That lowers it to 4. (Four more threads could enter this section.)\n",
    "s1.acquire()\n",
    "\n",
    "# Then you do whatever sensitive thing needed to be restricted to five threads.\n",
    "\n",
    "# When you're finished, you release the semaphore, and it goes back to 5.\n",
    "s1.release()\n",
    "\n",
    "\n",
    "# That's all fine, but you can also release it without acquiring it first.\n",
    "s1.release()\n",
    "\n",
    "# The counter is now 6! That might make sense in some situations, but not in most.\n",
    "print(s1._value)  # => 6\n",
    "\n",
    "# If that doesn't make sense in your situation, use a BoundedSemaphore.\n",
    "\n",
    "s2 = BoundedSemaphore(5)  # Start at 5.\n",
    "\n",
    "s2.acquire()  # Lower to 4.\n",
    "\n",
    "s2.release()  # Go back to 5.\n",
    "\n",
    "try:\n",
    "    s2.release()  # Try to raise to 6, above starting value.\n",
    "except ValueError:\n",
    "    print('As expected, it complained.')  "
   ]
  },
  {
   "cell_type": "markdown",
   "metadata": {},
   "source": [
    "<h3>Barrier:</h3>\n",
    "<h4>El metodo de barrera se utiliza cuando queremos que un conjunto de subprocesos se esperen entre sí, estos subprocesos esperan hasta un punto en hasta un conjunto de actividades y posteriormente avanzan juntos.[8]</h4>\n",
    "<p>+ Cada subproceso llama a la función wait() al llegar a la barrera. La barrera es responsable de realizar un seguimiento de la cantidad de llamadas de espera(). </p>\n",
    "<p>+ Incluso se pueden usar barreras para sincronizar el acceso entre subprocesos. Sin embargo, generalmente se usa una barrera para combinar la salida de los subprocesos. Un objeto de barrera se puede reutilizar varias veces para exactamente el mismo número de subprocesos para los que se inicializó inicialmente.[9] </p>\n"
   ]
  },
  {
   "cell_type": "markdown",
   "metadata": {},
   "source": [
    "<h3>Ejemplo del metodo Semaphore[9]:</h3>"
   ]
  },
  {
   "cell_type": "code",
   "execution_count": 17,
   "metadata": {},
   "outputs": [
    {
     "name": "stdout",
     "output_type": "stream",
     "text": [
      "100\n",
      "\n",
      "101\n",
      "\n",
      "Exit\n",
      "\n"
     ]
    },
    {
     "name": "stdout",
     "output_type": "stream",
     "text": [
      "Thread-3Thread-2Thread-1\n",
      "Hello, Hello, \n",
      "\n",
      "Hello, Hello, Hello, Thread-5Thread-2Thread-3Thread-1\n",
      "\n",
      "Hello, \n",
      "Hello, \n",
      "Hello, Hello, Thread-4\n",
      "Hello, Thread-2Thread-3\n",
      "Hello, \n",
      "Hello, Thread-4Thread-1\n",
      "Hello, \n",
      "Hello, Thread-5\n",
      "Hello, Thread-1Thread-4Thread-3\n",
      "Hello, Thread-5\n",
      "Hello, Thread-2\n",
      "\n",
      "Hello, \n",
      "Hello, Hello, Thread-2Thread-4Thread-1\n",
      "Hello, Thread-5\n",
      "\n",
      "\n",
      "Hello, Thread-3\n",
      "Thread-4Thread-5\n",
      "\n"
     ]
    }
   ],
   "source": [
    "import threading\n",
    "  \n",
    "barrier = threading.Barrier(3)\n",
    "  \n",
    "class thread(threading.Thread):\n",
    "    def __init__(self, thread_ID):\n",
    "        threading.Thread.__init__(self)\n",
    "        self.thread_ID = thread_ID\n",
    "    def run(self):\n",
    "        print(str(self.thread_ID) + \"\\n\")\n",
    "        barrier.wait()\n",
    "          \n",
    "thread1 = thread(100)\n",
    "thread2 = thread(101)\n",
    "  \n",
    "thread1.start()\n",
    "thread2.start()\n",
    "barrier.wait()\n",
    "  \n",
    "print(\"Exit\\n\")"
   ]
  },
  {
   "cell_type": "markdown",
   "metadata": {},
   "source": [
    "<h3>Conclusiones: </h3>\n",
    "<h4>En este documento se hace una investigación sobre las primitivas de sincronización las cuales se aprendio que estan diseñadas para ser similares a las del módulo de threading, pero con algunos cambios en algunas partes. Ademas de que se aprendio que las primitivas permiten proteger o mejorar los codigos que se crean, tambien nos permite controlar la ejecución de los hilos, ya sea para controlar las notificaciones, los tiempos de inicio o termino o hacer que los subprocesos terminen al mismo tiempo. </h4>"
   ]
  },
  {
   "cell_type": "markdown",
   "metadata": {},
   "source": [
    "Referencias:\n",
    "<p>[1]https://runebook.dev/es/docs/python/library/asyncio-sync</p>\n",
    "<p>[2]https://docs.python.org/es/dev/library/threading.html#:~:text=la%20versi%C3%B3n%203.10.-,Objetos%20tipo%20lock,el%20m%C3%B3dulo%20de%20extensi%C3%B3n%20_thread%20.</p>\n",
    "<p>[3]https://www.delftstack.com/es/howto/python/python-thread-lock/</p>\n",
    "<p>[4]https://www.geeksforgeeks.org/mimicking-events-python/</p>\n",
    "<p>[5]https://www.bogotobogo.com/python/Multithread/python_multithreading_Synchronization_Condition_Objects_Producer_Consumer.php</p>\n",
    "<p>[6]https://www.geeksforgeeks.org/synchronization-by-using-semaphore-in-python/</p>\n",
    "<p>[7]https://stackoverflow.com/questions/48971121/what-is-the-difference-between-semaphore-and-boundedsemaphore</p>\n",
    "<p>[8]https://www.tutorialspoint.com/barrier-objects-in-python</p>\n",
    "<p>[9]https://www.geeksforgeeks.org/barrier-objects-python/</p>\n",
    "\n",
    "\n"
   ]
  }
 ],
 "metadata": {
  "kernelspec": {
   "display_name": "Python 3.10.8 64-bit (microsoft store)",
   "language": "python",
   "name": "python3"
  },
  "language_info": {
   "codemirror_mode": {
    "name": "ipython",
    "version": 3
   },
   "file_extension": ".py",
   "mimetype": "text/x-python",
   "name": "python",
   "nbconvert_exporter": "python",
   "pygments_lexer": "ipython3",
   "version": "3.10.8"
  },
  "orig_nbformat": 4,
  "vscode": {
   "interpreter": {
    "hash": "290432a7c5e74225faf3fa52cc26c922d5d39629909ea220d7cdbc10cbc2ef84"
   }
  }
 },
 "nbformat": 4,
 "nbformat_minor": 2
}
